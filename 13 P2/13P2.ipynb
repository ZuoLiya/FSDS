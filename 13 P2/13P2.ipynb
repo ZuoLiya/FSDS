{
 "cells": [
  {
   "cell_type": "code",
   "execution_count": 1,
   "id": "c35593aa-3352-4ce5-b006-4aa79b5b52f3",
   "metadata": {},
   "outputs": [
    {
     "name": "stdout",
     "output_type": "stream",
     "text": [
      "Hello World!\n"
     ]
    }
   ],
   "source": [
    "#Task 2: Hello World!\n",
    "print('Hello World!')"
   ]
  },
  {
   "cell_type": "code",
   "execution_count": 10,
   "id": "d6df21d7-cf25-46dd-86d8-4f7e3822b83d",
   "metadata": {},
   "outputs": [
    {
     "ename": "SyntaxError",
     "evalue": "cannot assign to expression here. Maybe you meant '==' instead of '='? (1016276586.py, line 13)",
     "output_type": "error",
     "traceback": [
      "\u001b[0;36m  Cell \u001b[0;32mIn[10], line 13\u001b[0;36m\u001b[0m\n\u001b[0;31m    pi^2 = 3.14159**2\u001b[0m\n\u001b[0m    ^\u001b[0m\n\u001b[0;31mSyntaxError\u001b[0m\u001b[0;31m:\u001b[0m cannot assign to expression here. Maybe you meant '==' instead of '='?\n"
     ]
    }
   ],
   "source": [
    "#Task 3: Python Variables\n",
    "## 3.1 Variables Names\n",
    "\n",
    "Pi = 3.13159 \n",
    "# √ Valid Python\n",
    "\n",
    "pi = 3.14159 \n",
    "# √ Valid, but Pi != pi\n",
    "\n",
    "3pi = 3.14159*3\n",
    "# X The first character cannot be a number\n",
    "\n",
    "pi_2 = 3.14159**2\n",
    "# √ Valid Python\n",
    "\n",
    "pi^2 = 3.14159**2\n",
    "# X ^ is used for calculation, instead of Assignment(赋值)\n",
    "\n",
    "my radius = 5\n",
    "# X no space\n",
    "\n",
    "My_Radius = 5\n",
    "# √ Valid Python\n",
    "\n",
    "class = 5\n",
    "# √ Valid, but more like the specialised definition of 类"
   ]
  },
  {
   "cell_type": "code",
   "execution_count": 20,
   "id": "8069728a-b424-43e8-be9e-b4ba208e0e8c",
   "metadata": {},
   "outputs": [],
   "source": [
    "Pi = 3.13159\n",
    "pi = 3.14159 \n",
    "pi = 3.14159*3\n",
    "pi_2 = 3.14159**2\n",
    "pi2 = 3.14159**2\n",
    "my_radius = 5\n",
    "My_Radius = 5\n",
    "theclass = 5"
   ]
  },
  {
   "cell_type": "code",
   "execution_count": null,
   "id": "f0b4abbd-34bf-471a-af63-3ec965caaeea",
   "metadata": {},
   "outputs": [],
   "source": [
    "## 3.2 Variable Types\n",
    "x = '2'\n",
    "y = z = 2\n",
    "\n",
    "print(y * z)\n",
    "#4\n",
    "\n",
    "print(x * y)\n",
    "#22\n",
    "\n",
    "print(x + x)\n",
    "#22\n",
    "\n",
    "print((y+z)**z)\n",
    "#16\n",
    "\n",
    "print(y/(y+z))\n",
    "#0.5\n",
    "\n",
    "print( type(x*y) )\n",
    "#string\n",
    "\n",
    "print( type(y*z) )\n",
    "#int\n",
    "\n",
    "print( type((y+z)**z) )\n",
    "#int\n",
    "\n",
    "print( type(y/(y+z) )\n",
    "#float"
   ]
  },
  {
   "cell_type": "code",
   "execution_count": 23,
   "id": "79ff91ca-82a0-4971-b3b1-ff759a89d6e9",
   "metadata": {},
   "outputs": [
    {
     "name": "stdout",
     "output_type": "stream",
     "text": [
      "22\n",
      "32\n",
      "22\n"
     ]
    }
   ],
   "source": [
    "## 3.3 Assignment\n",
    "x = 12\n",
    "y = 10\n",
    "\n",
    "z = x + y\n",
    "#22\n",
    "\n",
    "x = x + y\n",
    "#32\n",
    "\n",
    "y = z + y\n",
    "#32\n",
    "\n",
    "print(x)\n",
    "print(y)\n",
    "print(z)"
   ]
  },
  {
   "cell_type": "code",
   "execution_count": 24,
   "id": "8c6824ba-0854-43a1-a607-fe61be2333d5",
   "metadata": {},
   "outputs": [
    {
     "name": "stdout",
     "output_type": "stream",
     "text": [
      "2.5\n",
      "2.25\n",
      "2.5\n"
     ]
    }
   ],
   "source": [
    "## 3.4 Operators & Precedence\n",
    "x = 1 + (2 * 3) / 4\n",
    "y = (1 + 2) * (3 / 4)\n",
    "z = 1 + 2 * (3 / 4)\n",
    "\n",
    "print(x)\n",
    "#x is 2.5\n",
    "\n",
    "print(y)\n",
    "#y is 2.25\n",
    "\n",
    "print(z)\n",
    "#z is 2.5"
   ]
  },
  {
   "cell_type": "code",
   "execution_count": 28,
   "id": "947cd1d9-eca6-45fc-a9e2-476fc200df7c",
   "metadata": {},
   "outputs": [
    {
     "name": "stdout",
     "output_type": "stream",
     "text": [
      "1\n",
      "13\n",
      "False\n",
      "1000\n",
      "7\n",
      "3\n"
     ]
    }
   ],
   "source": [
    "## 3.5 Test Your Operator Knowledge\n",
    "x = 10\n",
    "y = 3\n",
    "\n",
    "print( x % y )\n",
    "#1\n",
    "\n",
    "print( x + y )\n",
    "#13\n",
    "\n",
    "print( x == y )\n",
    "#False\n",
    "\n",
    "print( x**y )\n",
    "#1000\n",
    "\n",
    "print( x - y )\n",
    "#7\n",
    "\n",
    "print( x // y )\n",
    "#3"
   ]
  },
  {
   "cell_type": "code",
   "execution_count": 42,
   "id": "6c35731e-dcf5-4ea1-b0ff-bfab413e3173",
   "metadata": {},
   "outputs": [
    {
     "name": "stdout",
     "output_type": "stream",
     "text": [
      "904.7786842338603\n",
      "904.7786842338603cm^3\n",
      "904.779cm^3\n",
      "904cm^3\n"
     ]
    }
   ],
   "source": [
    "## 3.6 Applying What We've Learned\n",
    "### 3.6.1. Calculate the Volume of a Sphere\n",
    "import math\n",
    "\n",
    "d = 12\n",
    "v = (4/3)*math.pi*(d/2)**3\n",
    "\n",
    "print(v)\n",
    "print(f\"{v}cm^3\")\n",
    "print(f\"{v:0.3f}cm^3\")\n",
    "print(f\"{int(v)}cm^3\")"
   ]
  },
  {
   "cell_type": "code",
   "execution_count": 46,
   "id": "0c69b72a-ebd1-46fa-b219-56ae588f253c",
   "metadata": {},
   "outputs": [
    {
     "name": "stdout",
     "output_type": "stream",
     "text": [
      "14\n",
      "15\n",
      "14cm\n"
     ]
    }
   ],
   "source": [
    "### 3.6.2 Calculate the Radius of a Sphere\n",
    "import math\n",
    "\n",
    "v = 14137\n",
    "r = ((3/4)*(v/math.pi))**(1/3)\n",
    "\n",
    "print(int(r))\n",
    "print(round(r))\n",
    "print(f\"{int(r)}cm\")"
   ]
  },
  {
   "cell_type": "code",
   "execution_count": 49,
   "id": "0cb753c3-90ce-4fdf-9e5f-0ea9f9b88af9",
   "metadata": {},
   "outputs": [
    {
     "name": "stdout",
     "output_type": "stream",
     "text": [
      "Exactly 2 hours worked\n"
     ]
    }
   ],
   "source": [
    "# Task 4: Python Conditions\n",
    "## 4.1 Working with Conditions\n",
    "hours = 2\n",
    "\n",
    "if hours == 2:\n",
    "    print(\"Exactly 2 hours worked\")\n",
    "elif hours >= 10:\n",
    "    print(\"At least 10 hours worked!\")\n",
    "else:\n",
    "    print(\"Less than 10 hours worked!\")"
   ]
  },
  {
   "cell_type": "code",
   "execution_count": 52,
   "id": "2b063faf-e79f-42f1-a92a-b646555b4c82",
   "metadata": {},
   "outputs": [
    {
     "name": "stdout",
     "output_type": "stream",
     "text": [
      "inside 1\n",
      "inside 2\n",
      "inside\n",
      "after condition\n"
     ]
    }
   ],
   "source": [
    "## 4.2 Flow Control\n",
    "a = 1\n",
    "b = 1\n",
    "\n",
    "x = a\n",
    "\n",
    "if x == b:\n",
    "    print(\"inside 1\")\n",
    "    print(\"inside 2\")\n",
    "    print(\"inside\")\n",
    "\n",
    "    print(\"after condition\")"
   ]
  },
  {
   "cell_type": "code",
   "execution_count": 58,
   "id": "699a8316-0254-4fdb-ab7d-c74b84441d7f",
   "metadata": {},
   "outputs": [
    {
     "name": "stdout",
     "output_type": "stream",
     "text": [
      "Aled\n"
     ]
    }
   ],
   "source": [
    "# Task 5: Python Logic\n",
    "## 5.1  It's All Quite Logical\n",
    "\n",
    "# What names are name(s) are printed when x = 5 ?\n",
    "x=5\n",
    "\n",
    "if x > 0 and x < 5:\n",
    "    print(\"Joe\")\n",
    "if x > 0 or x < 5:\n",
    "    print(\"Aled\")\n",
    "if not(x > 0):\n",
    "    print(\"Sarah\")\n",
    "    "
   ]
  },
  {
   "cell_type": "code",
   "execution_count": 61,
   "id": "07cd3787-4f75-4698-92c5-e97fd972644d",
   "metadata": {},
   "outputs": [
    {
     "name": "stdout",
     "output_type": "stream",
     "text": [
      "Joe\n",
      "Aled\n"
     ]
    }
   ],
   "source": [
    "# What value(s) can x be when the names Joe and Aled are printed?\n",
    "x=2\n",
    "\n",
    "if x > 0 and x < 5:\n",
    "    print(\"Joe\")\n",
    "if x > 0 or x < 5:\n",
    "    print(\"Aled\")\n",
    "if not(x > 0):\n",
    "    print(\"Sarah\")"
   ]
  },
  {
   "cell_type": "code",
   "execution_count": 62,
   "id": "76931d61-b6ab-4d5a-85e2-211b9d253431",
   "metadata": {},
   "outputs": [
    {
     "name": "stdout",
     "output_type": "stream",
     "text": [
      "Aled\n",
      "Sarah\n"
     ]
    }
   ],
   "source": [
    "# What name(s) are printed when x = -1 ?\n",
    "x=-1\n",
    "\n",
    "if x > 0 and x < 5:\n",
    "    print(\"Joe\")\n",
    "if x > 0 or x < 5:\n",
    "    print(\"Aled\")\n",
    "if not(x > 0):\n",
    "    print(\"Sarah\")"
   ]
  },
  {
   "cell_type": "code",
   "execution_count": 63,
   "id": "6ac7e253-f500-415c-a523-6ecf76e7b88f",
   "metadata": {},
   "outputs": [
    {
     "ename": "SyntaxError",
     "evalue": "invalid syntax (1276617672.py, line 2)",
     "output_type": "error",
     "traceback": [
      "\u001b[0;36m  Cell \u001b[0;32mIn[63], line 2\u001b[0;36m\u001b[0m\n\u001b[0;31m    x=?\u001b[0m\n\u001b[0m      ^\u001b[0m\n\u001b[0;31mSyntaxError\u001b[0m\u001b[0;31m:\u001b[0m invalid syntax\n"
     ]
    }
   ],
   "source": [
    "# Is there any value for which all three names will be printed?\n",
    "x=?\n",
    "\n",
    "if x > 0 and x < 5:\n",
    "    print(\"Joe\")\n",
    "if x > 0 or x < 5:\n",
    "    print(\"Aled\")\n",
    "if not(x > 0):\n",
    "    print(\"Sarah\")"
   ]
  },
  {
   "cell_type": "code",
   "execution_count": 64,
   "id": "299ac32d-5ff7-493f-9c64-7b9b6ff85c4d",
   "metadata": {},
   "outputs": [
    {
     "name": "stdout",
     "output_type": "stream",
     "text": [
      "x is even\n",
      "0\n",
      "x is odd\n",
      "1\n",
      "x is even\n",
      "2\n",
      "x is odd\n",
      "3\n",
      "x is even\n",
      "4\n",
      "x is odd\n",
      "5\n",
      "x is even\n",
      "6\n",
      "x is odd\n",
      "7\n",
      "x is even\n",
      "8\n"
     ]
    }
   ],
   "source": [
    "## 5.2  Logic (Cont'd)\n",
    "for x in range(0,9):\n",
    "    if x%2==0:\n",
    "        print(\"x is even\")\n",
    "    else:\n",
    "        print(\"x is odd\")\n",
    "    print(x)"
   ]
  },
  {
   "cell_type": "code",
   "execution_count": 66,
   "id": "4c103553-a2b5-4bcf-9853-d30489efd1e0",
   "metadata": {},
   "outputs": [
    {
     "name": "stdout",
     "output_type": "stream",
     "text": [
      "x is not equal to y\n",
      "x is greater than y\n"
     ]
    }
   ],
   "source": [
    "## 5.3 'Nested' Conditionals\n",
    "x=5\n",
    "y=4\n",
    "\n",
    "if x != y:\n",
    "    print(\"x is not equal to y\")\n",
    "    \n",
    "    if(x > y):\n",
    "        print(\"x is greater than y\")\n",
    "\n",
    "    else:\n",
    "        print(\"x is less than y\")\n",
    " \n",
    "else:\n",
    "    print(\"x is equal to y\")"
   ]
  },
  {
   "cell_type": "code",
   "execution_count": 67,
   "id": "b6129562-5530-492b-ae4d-f14ca8ae23c7",
   "metadata": {},
   "outputs": [
    {
     "name": "stdout",
     "output_type": "stream",
     "text": [
      "x is not equal to y\n",
      "x is less than y\n"
     ]
    }
   ],
   "source": [
    "x=2\n",
    "y=3\n",
    "\n",
    "if x != y:\n",
    "    print(\"x is not equal to y\")\n",
    "    \n",
    "    if(x > y):\n",
    "        print(\"x is greater than y\")\n",
    "\n",
    "    else:\n",
    "        print(\"x is less than y\")\n",
    " \n",
    "else:\n",
    "    print(\"x is equal to y\")"
   ]
  },
  {
   "cell_type": "code",
   "execution_count": 73,
   "id": "61980072-7ed0-40e0-b0cd-56da83d768c6",
   "metadata": {},
   "outputs": [
    {
     "name": "stdout",
     "output_type": "stream",
     "text": [
      "London\n",
      "Tokyo\n",
      "['Beijing', 'Tokyo']\n",
      "['London', 'Beijing', 'Tokyo', 'Delhi']\n",
      "['London', 'Beijing', 'Tokyo']\n",
      "0\n"
     ]
    }
   ],
   "source": [
    "# Task 6: Python Lists\n",
    "## 6.1 Who's in the List?\n",
    "cities = ['New York', 'London', 'Beijing', 'Tokyo', 'Delhi']\n",
    "# Print out London from cities:\n",
    "print(cities[1])\n",
    "# Print out Tokyo using *negative* indexing:\n",
    "print(cities[-2])\n",
    "# Print out Beijing *and* Tokyo using a list slice\n",
    "print(cities[2:-1])\n",
    "# Print out London to Delhi using a slice\n",
    "print(cities[1:])\n",
    "# Combine positive and negative indexing to print out London, Beijing and Tokyo using a list slice\n",
    "print(cities[1:-1])\n",
    "# Print out the position of New York in the list by searching for it (i.e. you can't just type 0)\n",
    "print(cities.index(\"New York\"))"
   ]
  },
  {
   "cell_type": "code",
   "execution_count": 75,
   "id": "621fa372-8945-4885-8b41-31740d9362dc",
   "metadata": {},
   "outputs": [
    {
     "ename": "IndexError",
     "evalue": "list index out of range",
     "output_type": "error",
     "traceback": [
      "\u001b[0;31m---------------------------------------------------------------------------\u001b[0m",
      "\u001b[0;31mIndexError\u001b[0m                                Traceback (most recent call last)",
      "Cell \u001b[0;32mIn[75], line 4\u001b[0m\n\u001b[1;32m      1\u001b[0m \u001b[38;5;66;03m## 6.2 Manipulating Lists\u001b[39;00m\n\u001b[1;32m      2\u001b[0m \u001b[38;5;66;03m### 6.2.1 Create an IndexError\u001b[39;00m\n\u001b[1;32m      3\u001b[0m \u001b[38;5;66;03m# Cause an 'IndexError: list index out of range' errr\u001b[39;00m\n\u001b[0;32m----> 4\u001b[0m \u001b[43mcities\u001b[49m\u001b[43m[\u001b[49m\u001b[38;5;241;43m6\u001b[39;49m\u001b[43m]\u001b[49m\n",
      "\u001b[0;31mIndexError\u001b[0m: list index out of range"
     ]
    }
   ],
   "source": [
    "## 6.2 Manipulating Lists\n",
    "### 6.2.1 Create an IndexError\n",
    "# Cause an 'IndexError: list index out of range' errr\n",
    "cities[6]"
   ]
  },
  {
   "cell_type": "code",
   "execution_count": 77,
   "id": "bb6406cd-6247-410e-aa89-192e8937e9ed",
   "metadata": {},
   "outputs": [
    {
     "ename": "NameError",
     "evalue": "name 'Toronto' is not defined",
     "output_type": "error",
     "traceback": [
      "\u001b[0;31m---------------------------------------------------------------------------\u001b[0m",
      "\u001b[0;31mNameError\u001b[0m                                 Traceback (most recent call last)",
      "Cell \u001b[0;32mIn[77], line 3\u001b[0m\n\u001b[1;32m      1\u001b[0m \u001b[38;5;66;03m### 6.2.2 Create a ValueError\u001b[39;00m\n\u001b[1;32m      2\u001b[0m \u001b[38;5;66;03m# Cause a ValueError using the city of Toronto\u001b[39;00m\n\u001b[0;32m----> 3\u001b[0m cities\u001b[38;5;241m.\u001b[39mindex(\u001b[43mToronto\u001b[49m)\n",
      "\u001b[0;31mNameError\u001b[0m: name 'Toronto' is not defined"
     ]
    }
   ],
   "source": [
    "### 6.2.2 Create a ValueError\n",
    "# Cause a ValueError using the city of Toronto\n",
    "cities.index(Toronto)"
   ]
  },
  {
   "cell_type": "code",
   "execution_count": 78,
   "id": "258168c3-facb-4769-8482-67a7c09f4379",
   "metadata": {},
   "outputs": [
    {
     "name": "stdout",
     "output_type": "stream",
     "text": [
      "['Tokyo', 'New York', 'London', 'Delhi', 'Beijing']\n",
      "['New York', 'London', 'Beijing', 'Tokyo', 'Delhi']\n"
     ]
    }
   ],
   "source": [
    "### 6.2.3 Sort the List\n",
    "# The approach does _not_ sort the original list,\n",
    "# it returns a copy of the list that is sorted:\n",
    "print(sorted(cities, reverse=True)) # <- what is printed is sorted\n",
    "print(cities) # <- but the list is not"
   ]
  },
  {
   "cell_type": "code",
   "execution_count": 81,
   "id": "7408a29d-cdcb-430b-b493-4483722e084e",
   "metadata": {},
   "outputs": [
    {
     "name": "stdout",
     "output_type": "stream",
     "text": [
      "['Tokyo', 'New York', 'London', 'Delhi', 'Beijing']\n",
      "['Beijing', 'Delhi', 'London', 'New York', 'Tokyo']\n"
     ]
    }
   ],
   "source": [
    "# This is the 'in place' option\n",
    "cities.sort(reverse=True) # <- list is now sorted\n",
    "print(cities)\n",
    "cities.sort(reverse=False) # <- list is now sorted\n",
    "print(cities)"
   ]
  },
  {
   "cell_type": "code",
   "execution_count": 82,
   "id": "a84616e8-aef3-45e2-8bdf-c2ab310a6595",
   "metadata": {},
   "outputs": [
    {
     "name": "stdout",
     "output_type": "stream",
     "text": [
      "['Tokyo', 'New York', 'Toronto', 'London', 'Delhi', 'Beijing']\n"
     ]
    }
   ],
   "source": [
    "## 6.3 Adding/Removing Values\n",
    "### 6.3.1 Inserting into a List\n",
    "cities = ['Tokyo', 'New York', 'London', 'Delhi', 'Beijing']\n",
    "\n",
    "cities.insert(2,'Toronto')\n",
    "print(cities)"
   ]
  },
  {
   "cell_type": "code",
   "execution_count": 83,
   "id": "53a1ec80-e3dd-4cbd-9ddb-cdcbc1cbd21e",
   "metadata": {},
   "outputs": [
    {
     "name": "stdout",
     "output_type": "stream",
     "text": [
      "New York\n",
      "['Tokyo', 'Toronto', 'London', 'Delhi', 'Beijing']\n"
     ]
    }
   ],
   "source": [
    "### 6.3.2 Removing from a List\n",
    "p=cities.pop(cities.index('New York'))\n",
    "print(p)\n",
    "print(cities)"
   ]
  },
  {
   "cell_type": "code",
   "execution_count": 86,
   "id": "52ba1f26-4efe-40b8-9fbc-b64364b654ac",
   "metadata": {},
   "outputs": [
    {
     "name": "stdout",
     "output_type": "stream",
     "text": [
      "Moscow is not in the cities list!\n"
     ]
    }
   ],
   "source": [
    "### 6.3.3 Checking Lists\n",
    "if 'Moscow' in cities:\n",
    "    print('Moscow is in the cities list!')\n",
    "else:\n",
    "    print('Moscow is not in the cities list!')"
   ]
  }
 ],
 "metadata": {
  "kernelspec": {
   "display_name": "Python 3 (ipykernel)",
   "language": "python",
   "name": "python3"
  },
  "language_info": {
   "codemirror_mode": {
    "name": "ipython",
    "version": 3
   },
   "file_extension": ".py",
   "mimetype": "text/x-python",
   "name": "python",
   "nbconvert_exporter": "python",
   "pygments_lexer": "ipython3",
   "version": "3.11.5"
  }
 },
 "nbformat": 4,
 "nbformat_minor": 5
}
