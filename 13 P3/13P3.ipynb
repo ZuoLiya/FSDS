{
 "cells": [
  {
   "cell_type": "code",
   "execution_count": 1,
   "id": "72ffcf4a-6508-4ed8-b9d6-13c09d32cf29",
   "metadata": {},
   "outputs": [],
   "source": [
    "# Task 1. From Lists to Data (Little Steps)\n",
    "## Task 1.1 List Refresher\n",
    "cities = [\"Bristol\",\"London\",\"Manchester\",\"Edinburgh\",\"Belfast\",\"York\"]"
   ]
  },
  {
   "cell_type": "code",
   "execution_count": 2,
   "id": "cd6db49a-6bd8-4507-93a2-d01e972f47c0",
   "metadata": {},
   "outputs": [
    {
     "name": "stdout",
     "output_type": "stream",
     "text": [
      "Belfast\n"
     ]
    }
   ],
   "source": [
    "### 1.1.1 List Arithmetic\n",
    "print(cities[2+2])"
   ]
  },
  {
   "cell_type": "code",
   "execution_count": 3,
   "id": "5197738d-b9ac-47a9-91e3-72d738b863cd",
   "metadata": {},
   "outputs": [
    {
     "name": "stdout",
     "output_type": "stream",
     "text": [
      "Belfast\n"
     ]
    }
   ],
   "source": [
    "### 1.1.2 Negative List Arithmeti\n",
    "print(cities[-2])"
   ]
  },
  {
   "cell_type": "code",
   "execution_count": 4,
   "id": "1575d56a-12ef-43eb-9d7b-ad33aff4c2d8",
   "metadata": {},
   "outputs": [
    {
     "name": "stdout",
     "output_type": "stream",
     "text": [
      "The position of Manchester in the list is: 2\n"
     ]
    }
   ],
   "source": [
    "### 1.1.3 Finding a Position in a List\n",
    "print(\"The position of Manchester in the list is: \" + str(cities.index('Manchester')))"
   ]
  },
  {
   "cell_type": "code",
   "execution_count": 5,
   "id": "2d2264f7-1e15-41b6-8708-9574fb6a80de",
   "metadata": {},
   "outputs": [],
   "source": [
    "## Task 1.2 Looking Across Lists\n",
    "cities = [\"Bristol\", \"London\", \"Manchester\",\"Edinburgh\", \"Belfast\", \"York\"]\n",
    "temperatures = [15.6, 16.5, 13.4, 14.0, 15.2, 14.8]"
   ]
  },
  {
   "cell_type": "code",
   "execution_count": 6,
   "id": "53b7c125-f9f1-424d-bd4e-6869e7fdb039",
   "metadata": {},
   "outputs": [
    {
     "name": "stdout",
     "output_type": "stream",
     "text": [
      "The average temperature in Manchester is 13.4\n",
      "The average temperature in Manchester is 13.4\n"
     ]
    }
   ],
   "source": [
    "### 1.2.1 Lateral Thinking\n",
    "city=\"Manchester\"\n",
    "\n",
    "# This way is perfectly fine\n",
    "print(\"The average temperature in \"+ city +\" is \" + str(temperatures[cities.index(city)]))\n",
    "# This way is more Python 3 and a bit easier to read\n",
    "print(f\"The average temperature in {city} is {temperatures[cities.index(city)]}\")"
   ]
  },
  {
   "cell_type": "code",
   "execution_count": 7,
   "id": "563effc0-cba2-4378-8766-1b2920dabe0a",
   "metadata": {},
   "outputs": [
    {
     "name": "stdout",
     "output_type": "stream",
     "text": [
      "The average temperature in Belfast is 15.2\n",
      "The average temperature in Belfast is 15.2\n"
     ]
    }
   ],
   "source": [
    "### 1.2.2 Double-Checking Your Solution\n",
    "city=\"Belfast\"\n",
    "print(\"The average temperature in \"+ city +\" is \" + str(temperatures[cities.index(city)]))\n",
    "print(f\"The average temperature in {city} is {temperatures[cities.index(city)]}\")"
   ]
  },
  {
   "cell_type": "code",
   "execution_count": 8,
   "id": "b7f52216-8e3f-4cdc-8ec5-629a70d7c47c",
   "metadata": {},
   "outputs": [
    {
     "name": "stdout",
     "output_type": "stream",
     "text": [
      "The average temperature in Edinburgh is 14.0\n"
     ]
    }
   ],
   "source": [
    "### 1.2.3 A Functional Solution\n",
    "def avg_tmp(city, temp):\n",
    "    print(f\"The average temperature in {city} is {temp}\")\n",
    "\n",
    "city=\"Edinburgh\"\n",
    "avg_tmp(city, temperatures[cities.index(city)])"
   ]
  },
  {
   "cell_type": "code",
   "execution_count": 9,
   "id": "491fc541-0bd0-4357-af10-93a9c05ad18b",
   "metadata": {},
   "outputs": [
    {
     "name": "stdout",
     "output_type": "stream",
     "text": [
      "The average temperature in Edinburgh is 15.6\n",
      "The average temperature in Edinburgh is 16.5\n",
      "The average temperature in Edinburgh is 13.4\n",
      "The average temperature in Edinburgh is 14.0\n",
      "The average temperature in Edinburgh is 15.2\n",
      "The average temperature in Edinburgh is 14.8\n"
     ]
    }
   ],
   "source": [
    "### 1.2.4 Loops and Functions\n",
    "for c in cities:\n",
    "    avg_tmp(city, temperatures[cities.index(c)])"
   ]
  },
  {
   "cell_type": "code",
   "execution_count": 10,
   "id": "f79b03ef-badd-40db-ab53-d5d275aab169",
   "metadata": {},
   "outputs": [],
   "source": [
    "# Task 2. Dictionaries\n",
    "## Task 2.1 Creating an Atlas\n",
    "cities = {\n",
    "    'San Francisco': [27.77,-122.43, 'SFO'],\n",
    "    'London':[51.51,-0.08, 'LDN'],\n",
    "    'Paris': [78.86,2.29, 'PAR'],\n",
    "    'Beijing': [39.92,116, 'BRI']\n",
    "}"
   ]
  },
  {
   "cell_type": "code",
   "execution_count": 11,
   "id": "9b5ceee8-8926-40b1-82ba-de94f895186d",
   "metadata": {},
   "outputs": [],
   "source": [
    "### 2.1.1 Adding to a Dict\n",
    "cities['Chennai'] = [13.08,80.28, 'MAA']"
   ]
  },
  {
   "cell_type": "code",
   "execution_count": 12,
   "id": "e6e7780f-ccef-4cda-b956-bba1a869306a",
   "metadata": {},
   "outputs": [
    {
     "name": "stdout",
     "output_type": "stream",
     "text": [
      "MAA\n"
     ]
    }
   ],
   "source": [
    "### 2.1.2 Accessing a Dict\n",
    "print( cities['Chennai'][2] )"
   ]
  },
  {
   "cell_type": "code",
   "execution_count": 13,
   "id": "26d5d8b3-a2a5-4ddc-8b80-c174fefa0a0f",
   "metadata": {},
   "outputs": [
    {
     "ename": "KeyError",
     "evalue": "'Berlin'",
     "output_type": "error",
     "traceback": [
      "\u001b[0;31m---------------------------------------------------------------------------\u001b[0m",
      "\u001b[0;31mKeyError\u001b[0m                                  Traceback (most recent call last)",
      "Cell \u001b[0;32mIn[13], line 2\u001b[0m\n\u001b[1;32m      1\u001b[0m \u001b[38;5;66;03m## Task 2.2 Dealing With Errors\u001b[39;00m\n\u001b[0;32m----> 2\u001b[0m \u001b[38;5;28mprint\u001b[39m(\u001b[43mcities\u001b[49m\u001b[43m[\u001b[49m\u001b[38;5;124;43m'\u001b[39;49m\u001b[38;5;124;43mBerlin\u001b[39;49m\u001b[38;5;124;43m'\u001b[39;49m\u001b[43m]\u001b[49m)\n",
      "\u001b[0;31mKeyError\u001b[0m: 'Berlin'"
     ]
    }
   ],
   "source": [
    "## Task 2.2 Dealing With Errors\n",
    "print(cities['Berlin'])"
   ]
  },
  {
   "cell_type": "code",
   "execution_count": 14,
   "id": "eba468fc-fb15-4b4a-887a-d270bcf7fafb",
   "metadata": {},
   "outputs": [
    {
     "name": "stdout",
     "output_type": "stream",
     "text": [
      "None\n"
     ]
    }
   ],
   "source": [
    "print(cities.get('Berlin'))"
   ]
  },
  {
   "cell_type": "code",
   "execution_count": 15,
   "id": "98f0cf9b-5b87-419d-a2f7-85af2069db63",
   "metadata": {},
   "outputs": [
    {
     "name": "stdout",
     "output_type": "stream",
     "text": [
      "San Francisco->SFO\n",
      "London->LDN\n",
      "Paris->PAR\n",
      "Beijing->BRI\n",
      "Chennai->MAA\n"
     ]
    }
   ],
   "source": [
    "## Task 2.3 Thinking Data\n",
    "### 2.3.1 Iterating over a Dict\n",
    "for k, v in cities.items():\n",
    "    print(k + \"->\" + v[2])"
   ]
  },
  {
   "cell_type": "code",
   "execution_count": 16,
   "id": "c2daec79-2315-401f-95d8-ed68919532b3",
   "metadata": {},
   "outputs": [
    {
     "name": "stdout",
     "output_type": "stream",
     "text": [
      "San Francisco -> SFO\n",
      "London -> LDN\n",
      "Paris -> PAR\n",
      "Beijing -> BRI\n",
      "Chennai -> MAA\n"
     ]
    }
   ],
   "source": [
    "for k, v in cities.items():\n",
    "    print(f\"{k} -> {v[2]}\")"
   ]
  },
  {
   "cell_type": "code",
   "execution_count": 17,
   "id": "ea9e997a-1699-4220-8fa0-edb79071a086",
   "metadata": {},
   "outputs": [
    {
     "name": "stdout",
     "output_type": "stream",
     "text": [
      "San Francisco->SFO\n",
      "London->LDN\n",
      "Paris->PAR\n",
      "Beijing->BEI\n",
      "Chennai->MAA\n"
     ]
    }
   ],
   "source": [
    "### 2.3.2 More Complex Dicts\n",
    "cities = {\n",
    "    'San Francisco': {\n",
    "        'lat': 37.77,\n",
    "        'lon': -122.43,\n",
    "        'airport': 'SFO'},\n",
    "    'London':{\n",
    "        'lat': 51.51,\n",
    "        'lon':-0.08,\n",
    "        'airport':'LDN'},\n",
    "    'Paris': {\n",
    "        'lat': 48.86,\n",
    "        'lon': 2.29,\n",
    "        'airport': 'PAR'},\n",
    "    'Beijing': {\n",
    "        'lat': 39.92,\n",
    "        'lon': 116.40,\n",
    "        'airport': 'BEI'},\n",
    "     'Chennai': {\n",
    "        'lat': 13.08,\n",
    "        'lon': 80.28,\n",
    "        'airport': 'MAA'},\n",
    "}\n",
    "\n",
    "for k, v in cities.items():\n",
    "    print(k + '->' + v['airport'])"
   ]
  },
  {
   "cell_type": "code",
   "execution_count": 18,
   "id": "4567da36-7d67-494b-8e69-4be463af10ad",
   "metadata": {},
   "outputs": [
    {
     "name": "stdout",
     "output_type": "stream",
     "text": [
      "San Francisco -> SFO\n",
      "London -> LDN\n",
      "Paris -> PAR\n",
      "Beijing -> BEI\n",
      "Chennai -> MAA\n"
     ]
    }
   ],
   "source": [
    "for k, v in cities.items():\n",
    "    print(f\"{k} -> {v['airport']}\")"
   ]
  },
  {
   "cell_type": "code",
   "execution_count": 19,
   "id": "b53aa76c-cf40-4f73-9072-e9040112162b",
   "metadata": {},
   "outputs": [
    {
     "name": "stdout",
     "output_type": "stream",
     "text": [
      "San Francisco is at latitude 37.77\n",
      "London is at latitude 51.51\n",
      "Paris is at latitude 48.86\n",
      "Beijing is at latitude 39.92\n",
      "Chennai is at latitude 13.08\n"
     ]
    }
   ],
   "source": [
    "### 2.3.3 More Dictionary Action!\n",
    "for c in cities.keys():\n",
    "    print(c + ' is at latitude ' + str(cities[c]['lat']))"
   ]
  },
  {
   "cell_type": "code",
   "execution_count": 20,
   "id": "eedda018-26d8-4d00-ab74-3fbb042c3bd3",
   "metadata": {},
   "outputs": [
    {
     "name": "stdout",
     "output_type": "stream",
     "text": [
      "San Francisco is at latitude 37.77\n",
      "London is at latitude 51.51\n",
      "Paris is at latitude 48.86\n",
      "Beijing is at latitude 39.92\n",
      "Chennai is at latitude 13.08\n"
     ]
    }
   ],
   "source": [
    "for c in cities.keys():\n",
    "    print(f\"{c} is at latitude {cities[c]['lat']}\")"
   ]
  },
  {
   "cell_type": "code",
   "execution_count": 21,
   "id": "bcb401cf-cd20-4725-97cc-0e886e4e4cd4",
   "metadata": {},
   "outputs": [
    {
     "name": "stdout",
     "output_type": "stream",
     "text": [
      "San Francisco is at latitude 37.77\n",
      "London is at latitude 51.51\n",
      "Paris is at latitude 48.86\n",
      "Beijing is at latitude 39.92\n",
      "Chennai is at latitude 13.08\n"
     ]
    }
   ],
   "source": [
    "### 2.3.4 And Another Way to Use a Dict\n",
    "cities_alt = [\n",
    "    {'name':    'San Francisco',\n",
    "     'position':[37.77, -122.43],\n",
    "     'airport': 'SFO'},\n",
    "    {'name':    'London',\n",
    "     'position':[51.51, -0.08],\n",
    "     'airport': 'LDN'},\n",
    "    {'name':    'Paris',\n",
    "     'position':[48.86, 2.29],\n",
    "     'airport': 'PAR'},\n",
    "    {'name':    'Beijing',\n",
    "     'position':[39.92, 116.40],\n",
    "     'airport': 'BEI'},\n",
    "    {'name':    'Chennai',\n",
    "     'position':[13.08, 80.28],\n",
    "     'airport': 'MAA'}\n",
    "]\n",
    "\n",
    "for c in cities_alt:\n",
    "    print(c['name'] + ' is at latitude ' + str(c['position'][0]))"
   ]
  },
  {
   "cell_type": "code",
   "execution_count": 22,
   "id": "e7902159-2689-4e6a-a635-957b973586f6",
   "metadata": {},
   "outputs": [
    {
     "name": "stdout",
     "output_type": "stream",
     "text": [
      "San Francisco is at latitude 37.77\n",
      "London is at latitude 51.51\n",
      "Paris is at latitude 48.86\n",
      "Beijing is at latitude 39.92\n",
      "Chennai is at latitude 13.08\n"
     ]
    }
   ],
   "source": [
    "for c in cities_alt:\n",
    "    print(f\"{c['name']} is at latitude {c['position'][0]}\")"
   ]
  },
  {
   "cell_type": "code",
   "execution_count": 23,
   "id": "de401b8a-1a71-4d9b-b757-47971999deec",
   "metadata": {},
   "outputs": [
    {
     "data": {
      "text/plain": [
       "\u001b[0;31mSignature:\u001b[0m\n",
       " \u001b[0murlopen\u001b[0m\u001b[0;34m(\u001b[0m\u001b[0;34m\u001b[0m\n",
       "\u001b[0;34m\u001b[0m    \u001b[0murl\u001b[0m\u001b[0;34m,\u001b[0m\u001b[0;34m\u001b[0m\n",
       "\u001b[0;34m\u001b[0m    \u001b[0mdata\u001b[0m\u001b[0;34m=\u001b[0m\u001b[0;32mNone\u001b[0m\u001b[0;34m,\u001b[0m\u001b[0;34m\u001b[0m\n",
       "\u001b[0;34m\u001b[0m    \u001b[0mtimeout\u001b[0m\u001b[0;34m=\u001b[0m\u001b[0;34m<\u001b[0m\u001b[0mobject\u001b[0m \u001b[0mobject\u001b[0m \u001b[0mat\u001b[0m \u001b[0;36m0x7f04f8754ae0\u001b[0m\u001b[0;34m>\u001b[0m\u001b[0;34m,\u001b[0m\u001b[0;34m\u001b[0m\n",
       "\u001b[0;34m\u001b[0m    \u001b[0;34m*\u001b[0m\u001b[0;34m,\u001b[0m\u001b[0;34m\u001b[0m\n",
       "\u001b[0;34m\u001b[0m    \u001b[0mcafile\u001b[0m\u001b[0;34m=\u001b[0m\u001b[0;32mNone\u001b[0m\u001b[0;34m,\u001b[0m\u001b[0;34m\u001b[0m\n",
       "\u001b[0;34m\u001b[0m    \u001b[0mcapath\u001b[0m\u001b[0;34m=\u001b[0m\u001b[0;32mNone\u001b[0m\u001b[0;34m,\u001b[0m\u001b[0;34m\u001b[0m\n",
       "\u001b[0;34m\u001b[0m    \u001b[0mcadefault\u001b[0m\u001b[0;34m=\u001b[0m\u001b[0;32mFalse\u001b[0m\u001b[0;34m,\u001b[0m\u001b[0;34m\u001b[0m\n",
       "\u001b[0;34m\u001b[0m    \u001b[0mcontext\u001b[0m\u001b[0;34m=\u001b[0m\u001b[0;32mNone\u001b[0m\u001b[0;34m,\u001b[0m\u001b[0;34m\u001b[0m\n",
       "\u001b[0;34m\u001b[0m\u001b[0;34m)\u001b[0m\u001b[0;34m\u001b[0m\u001b[0;34m\u001b[0m\u001b[0m\n",
       "\u001b[0;31mDocstring:\u001b[0m\n",
       "Open the URL url, which can be either a string or a Request object.\n",
       "\n",
       "*data* must be an object specifying additional data to be sent to\n",
       "the server, or None if no such data is needed.  See Request for\n",
       "details.\n",
       "\n",
       "urllib.request module uses HTTP/1.1 and includes a \"Connection:close\"\n",
       "header in its HTTP requests.\n",
       "\n",
       "The optional *timeout* parameter specifies a timeout in seconds for\n",
       "blocking operations like the connection attempt (if not specified, the\n",
       "global default timeout setting will be used). This only works for HTTP,\n",
       "HTTPS and FTP connections.\n",
       "\n",
       "If *context* is specified, it must be a ssl.SSLContext instance describing\n",
       "the various SSL options. See HTTPSConnection for more details.\n",
       "\n",
       "The optional *cafile* and *capath* parameters specify a set of trusted CA\n",
       "certificates for HTTPS requests. cafile should point to a single file\n",
       "containing a bundle of CA certificates, whereas capath should point to a\n",
       "directory of hashed certificate files. More information can be found in\n",
       "ssl.SSLContext.load_verify_locations().\n",
       "\n",
       "The *cadefault* parameter is ignored.\n",
       "\n",
       "\n",
       "This function always returns an object which can work as a\n",
       "context manager and has the properties url, headers, and status.\n",
       "See urllib.response.addinfourl for more detail on these properties.\n",
       "\n",
       "For HTTP and HTTPS URLs, this function returns a http.client.HTTPResponse\n",
       "object slightly modified. In addition to the three new methods above, the\n",
       "msg attribute contains the same information as the reason attribute ---\n",
       "the reason phrase returned by the server --- instead of the response\n",
       "headers as it is specified in the documentation for HTTPResponse.\n",
       "\n",
       "For FTP, file, and data URLs and requests explicitly handled by legacy\n",
       "URLopener and FancyURLopener classes, this function returns a\n",
       "urllib.response.addinfourl object.\n",
       "\n",
       "Note that None may be returned if no handler handles the request (though\n",
       "the default installed global OpenerDirector uses UnknownHandler to ensure\n",
       "this never happens).\n",
       "\n",
       "In addition, if proxy settings are detected (for example, when a *_proxy\n",
       "environment variable like http_proxy is set), ProxyHandler is default\n",
       "installed and makes sure the requests are handled through the proxy.\n",
       "\u001b[0;31mFile:\u001b[0m      /opt/conda/lib/python3.11/urllib/request.py\n",
       "\u001b[0;31mType:\u001b[0m      function"
      ]
     },
     "metadata": {},
     "output_type": "display_data"
    }
   ],
   "source": [
    "# Task 3. Tackling Programming Problems\n",
    "## Task 3.1. Reading a Remote File\n",
    "from urllib.request import urlopen\n",
    "? urlopen"
   ]
  },
  {
   "cell_type": "code",
   "execution_count": 24,
   "id": "ef4d47de-1f46-4cf3-8a94-1c4438081e82",
   "metadata": {},
   "outputs": [
    {
     "name": "stdout",
     "output_type": "stream",
     "text": [
      "'raw' variable is of type: 'bytes'.\n",
      "Raw content is:\n",
      "b'City,Population,Latitude,Longitude\\r\\nPerth,45770,56.39583,-3.43333\\r\\nArmagh,14777,54.3499,-6.6546\\r\\nDundee,147268,56.462,-2.9707\\r\\nColchester,194706,51.88861,0.90361\\r\\nSalisbury,40302,51.07,-1.79\\r\\nPortsmouth,205056,50.80583,-1.08722\\r\\nWakefield,325837,53.683,-1.499\\r\\nBradford,522452,53.792,-1.754\\r\\nLancaster,138375,54.047,-2.801\\r\\nBangor,18808,53.228,-4.128\\r\\n'\n",
      "\n",
      "'data' variable is of type: 'str'.\n",
      "Decoded content is:\n",
      "City,Population,Latitude,Longitude\n",
      "Perth,45770,56.39583,-3.43333\n",
      "Armagh,14777,54.3499,-6.6546\n",
      "Dundee,147268,56.462,-2.9707\n",
      "Colchester,194706,51.88861,0.90361\n",
      "Salisbury,40302,51.07,-1.79\n",
      "Portsmouth,205056,50.80583,-1.08722\n",
      "Wakefield,325837,53.683,-1.499\n",
      "Bradford,522452,53.792,-1.754\n",
      "Lancaster,138375,54.047,-2.801\n",
      "Bangor,18808,53.228,-4.128\n",
      "\n"
     ]
    }
   ],
   "source": [
    "from urllib.request import urlopen\n",
    "\n",
    "# Given the info you were given above, what do you think the value of 'url' should be? \n",
    "# What type of variable is it? int or string? \n",
    "url = 'https://raw.githubusercontent.com/jreades/fsds/master/data/src/Wikipedia-Cities-simple.csv'\n",
    "\n",
    "# Read the URL stream into variable called 'response' using the function that we imported above\n",
    "response = urlopen(url)\n",
    "\n",
    "# You might want to explore what `__class__` and `__name__` are doing, but basically the give us a way of finding out what is 'behind' more complex variables\n",
    "\n",
    "# Now read from the stream, decoding so that we get actual text\n",
    "raw = response.read()\n",
    "\n",
    "print(f\"'raw' variable is of type: '{raw.__class__.__name__}'.\")\n",
    "print(f\"Raw content is:\\n{raw}\\n\")\n",
    "\n",
    "data = raw.decode('utf-8')\n",
    "\n",
    "print(f\"'data' variable is of type: '{data.__class__.__name__}'.\")\n",
    "print(f\"Decoded content is:\\n{data}\")"
   ]
  },
  {
   "cell_type": "code",
   "execution_count": 25,
   "id": "3f8a290b-fc52-4b99-8dfe-a2d05178b34f",
   "metadata": {},
   "outputs": [
    {
     "name": "stdout",
     "output_type": "stream",
     "text": [
      "There are 352 characters in the data variable.\n",
      "The first 125 characters are: 'City,Population,Latitude,Longitude\n",
      "Perth,45770,56.39583,-3.43333\n",
      "Armagh,14777,54.3499,-6.6546\n",
      "Dundee,147268,56.462,-2.9707'\n"
     ]
    }
   ],
   "source": [
    "print(f\"There are {len(data)} characters in the data variable.\")\n",
    "print(f\"The first 125 characters are: '{data[:125]}'\")\n",
    "#notice that '\\n' count here!"
   ]
  },
  {
   "cell_type": "code",
   "execution_count": 26,
   "id": "85f924d4-0d70-472d-be76-11e7978b61a0",
   "metadata": {},
   "outputs": [
    {
     "name": "stdout",
     "output_type": "stream",
     "text": [
      "'rows' variable is of type: list'.\n"
     ]
    }
   ],
   "source": [
    "rows = data.splitlines()\n",
    "\n",
    "print(f\"'rows' variable is of type: {rows.__class__.__name__}'.\")"
   ]
  },
  {
   "cell_type": "code",
   "execution_count": 27,
   "id": "07185006-940c-4f24-9f3f-771f6c176efa",
   "metadata": {},
   "outputs": [
    {
     "ename": "NameError",
     "evalue": "name 'row' is not defined",
     "output_type": "error",
     "traceback": [
      "\u001b[0;31m---------------------------------------------------------------------------\u001b[0m",
      "\u001b[0;31mNameError\u001b[0m                                 Traceback (most recent call last)",
      "Cell \u001b[0;32mIn[27], line 1\u001b[0m\n\u001b[0;32m----> 1\u001b[0m \u001b[38;5;28mprint\u001b[39m(\u001b[38;5;124mf\u001b[39m\u001b[38;5;124m\"\u001b[39m\u001b[38;5;124mThere are \u001b[39m\u001b[38;5;132;01m{\u001b[39;00m\u001b[38;5;28mlen\u001b[39m(\u001b[43mrow\u001b[49m)\u001b[38;5;132;01m}\u001b[39;00m\u001b[38;5;124m rows of data.\u001b[39m\u001b[38;5;124m\"\u001b[39m)\n\u001b[1;32m      2\u001b[0m \u001b[38;5;28mprint\u001b[39m(\u001b[38;5;124m\"\u001b[39m\u001b[38;5;130;01m\\n\u001b[39;00m\u001b[38;5;124m\"\u001b[39m\u001b[38;5;241m.\u001b[39mjoin(row[\u001b[38;5;241m0\u001b[39m:\u001b[38;5;241m2\u001b[39m]))\n\u001b[1;32m      3\u001b[0m \u001b[38;5;66;03m# New syntax alert! notice we can *join* list elements\u001b[39;00m\n",
      "\u001b[0;31mNameError\u001b[0m: name 'row' is not defined"
     ]
    }
   ],
   "source": [
    "print(f\"There are {len(row)} rows of data.\")\n",
    "print(\"\\n\".join(row[0:2]))\n",
    "# New syntax alert! notice we can *join* list elements"
   ]
  },
  {
   "cell_type": "code",
   "execution_count": null,
   "id": "8ddaeceb-76de-4106-8385-4cb97fbb7c2b",
   "metadata": {},
   "outputs": [],
   "source": [
    "print(row[-1])"
   ]
  },
  {
   "cell_type": "code",
   "execution_count": null,
   "id": "658e7a6e-f664-4438-b194-527e446df5d8",
   "metadata": {},
   "outputs": [],
   "source": [
    "## Task 3.2. Text into Data\n",
    "print('abcdefgh'.split('d'))"
   ]
  },
  {
   "cell_type": "code",
   "execution_count": null,
   "id": "8f53509a-5d84-4893-ae60-681193ac8650",
   "metadata": {},
   "outputs": [],
   "source": [
    "help('abcdefgh'.split)"
   ]
  },
  {
   "cell_type": "code",
   "execution_count": null,
   "id": "9121cc87-1138-4679-84a9-f5c6057195b4",
   "metadata": {},
   "outputs": [],
   "source": [
    "test = rows[-1].split(',')\n",
    "print(test)\n",
    "print(f\"The population of {test[0]} is {int(test[1]):,}\")"
   ]
  },
  {
   "cell_type": "code",
   "execution_count": null,
   "id": "c1727b0d-6369-480e-acd6-e69b6a76abbd",
   "metadata": {},
   "outputs": [],
   "source": [
    "## Task 3.3. The Advantages of a Package\n",
    "from urllib.request import urlopen\n",
    "import csv\n",
    "\n",
    "url = 'https://raw.githubusercontent.com/jreades/fsds/master/data/src/Wikipedia-Cities-simple.csv'\n",
    "response = urlopen(url)\n",
    "raw = response.read()\n",
    "\n",
    "# Now take the raw data, decode it, and then pass it over to the CSV reader function\n",
    "csvfile = csv.reader(raw.decode('utf-8').splitlines())\n",
    "\n",
    "urlData = []  # Somewhere to store the data\n",
    "for row in csvfile:\n",
    "    urlData.append( row )\n",
    "\n",
    "print(\"urlData has\" + str(len(urlData)) + \" rows and \" + str(len(urlData[0])) + \"columns.\")\n",
    "print(urlData[-1])\n",
    "# Check it worked!"
   ]
  },
  {
   "cell_type": "code",
   "execution_count": 28,
   "id": "cfca386c-092c-4662-88d5-8ac1903bb96d",
   "metadata": {},
   "outputs": [
    {
     "ename": "NameError",
     "evalue": "name 'urlData' is not defined",
     "output_type": "error",
     "traceback": [
      "\u001b[0;31m---------------------------------------------------------------------------\u001b[0m",
      "\u001b[0;31mNameError\u001b[0m                                 Traceback (most recent call last)",
      "Cell \u001b[0;32mIn[28], line 2\u001b[0m\n\u001b[1;32m      1\u001b[0m \u001b[38;5;66;03m# For each row in the first 15 items in list\u001b[39;00m\n\u001b[0;32m----> 2\u001b[0m \u001b[38;5;28;01mfor\u001b[39;00m u \u001b[38;5;129;01min\u001b[39;00m \u001b[43murlData\u001b[49m[\u001b[38;5;241m1\u001b[39m:]:\n\u001b[1;32m      3\u001b[0m     \u001b[38;5;28mprint\u001b[39m(\u001b[38;5;124mf\u001b[39m\u001b[38;5;124m\"\u001b[39m\u001b[38;5;124mThe city of\u001b[39m\u001b[38;5;124m'\u001b[39m\u001b[38;5;132;01m{\u001b[39;00mu[\u001b[38;5;241m0\u001b[39m]\u001b[38;5;132;01m}\u001b[39;00m\u001b[38;5;124m'\u001b[39m\u001b[38;5;124m has a population of \u001b[39m\u001b[38;5;132;01m{\u001b[39;00m\u001b[38;5;28mint\u001b[39m(u[\u001b[38;5;241m1\u001b[39m])\u001b[38;5;132;01m:\u001b[39;00m\u001b[38;5;124m,\u001b[39m\u001b[38;5;132;01m}\u001b[39;00m\u001b[38;5;124m\"\u001b[39m)\n\u001b[1;32m      4\u001b[0m     \u001b[38;5;66;03m# Print out the name and pop\u001b[39;00m\n",
      "\u001b[0;31mNameError\u001b[0m: name 'urlData' is not defined"
     ]
    }
   ],
   "source": [
    "# For each row in the first 15 items in list\n",
    "for u in urlData[1:]:\n",
    "    print(f\"The city of'{u[0]}' has a population of {int(u[1]):,}\")\n",
    "    # Print out the name and pop"
   ]
  },
  {
   "cell_type": "code",
   "execution_count": 29,
   "id": "ff2f3b5e-1b5c-4cf9-903c-d923708c2590",
   "metadata": {},
   "outputs": [
    {
     "name": "stdout",
     "output_type": "stream",
     "text": [
      "urlDara has 75 rows and 7 columns.\n",
      "The city of 'Stoke-on-Trent' has a population of West Midlands\n",
      "The city of 'Sunderland' has a population of North East\n",
      "The city of 'Swansea' has a population of Wales\n",
      "The city of 'Truro' has a population of South West\n",
      "The city of 'Wakefield' has a population of Yorkshire and the Humber\n",
      "The city of 'Wells' has a population of South West\n",
      "The city of 'Westminster' has a population of London\n",
      "The city of 'Winchester' has a population of South East\n",
      "The city of 'Wolverhampton' has a population of West Midlands\n",
      "The city of 'Worcester' has a population of West Midlands\n",
      "The city of 'Wrexham, Wrecsam' has a population of Wales\n",
      "The city of 'York' has a population of Yorkshire and the Humber\n"
     ]
    }
   ],
   "source": [
    "from urllib.request import urlopen\n",
    "import csv\n",
    "\n",
    "url = \"https://raw.githubusercontent.com/jreades/fsds/master/data/src/Wikipedia-Cities.csv\"\n",
    "response = urlopen(url)\n",
    "raw = response.read()\n",
    "\n",
    "csvfile = csv.reader(raw.decode('utf-8').splitlines())\n",
    "\n",
    "urlData = [] # Somewhere to store the data\n",
    "\n",
    "for row in csvfile: \n",
    " urlData.append( row )\n",
    "\n",
    "print(f\"urlDara has {len(urlData)} rows and {len(urlData[0])} columns.\")\n",
    "\n",
    "# For each row in the list\n",
    "for u in urlData[63:]:\n",
    "    print(f\"The city of '{u[0]}' has a population of {u[1]}\")\n",
    "    # Print out the name and pop"
   ]
  },
  {
   "cell_type": "code",
   "execution_count": 30,
   "id": "278d7e11-2139-4cc9-bb60-e879f3979108",
   "metadata": {},
   "outputs": [
    {
     "name": "stdout",
     "output_type": "stream",
     "text": [
      "['London', 'Manchester', 'Birmingham', 'Edinburgh', 'Inverness', 'Lerwick']\n",
      "[9787426, 2705000, 1141816, 901455, 70000, 6958]\n"
     ]
    }
   ],
   "source": [
    "# Task 4. Why 'Obvious' is Not Always 'Right'\n",
    "## Task 4.1. Understanding What's an 'Appropriate' Data Structure\n",
    "myData = {\n",
    "    'id' :         [0, 1, 2, 3, 4, 5],\n",
    "    'Name' :       ['London', 'Manchester', 'Birmingham','Edinburgh','Inverness','Lerwick'],\n",
    "    'Rank' :       [1, 2, 3, 4, 5, 6],\n",
    "    'Longitude' :  [-0.128, -2.245, -1.903, -3.189, -4.223, -1.145],\n",
    "    'Latitude' :   [51.507, 53.479, 52.480, 55.953, 57.478, 60.155],\n",
    "    'Population' : [9787426, 2705000, 1141816, 901455, 70000, 6958],\n",
    "}\n",
    "\n",
    "print(myData['Name'])\n",
    "print(myData['Population'])"
   ]
  },
  {
   "cell_type": "code",
   "execution_count": 31,
   "id": "1c63e493-c14a-4f35-adec-b43e66e60d75",
   "metadata": {},
   "outputs": [
    {
     "name": "stdout",
     "output_type": "stream",
     "text": [
      "Manchester's latitude is 53.479\n",
      "The town of Lerwick can be found ar60.155ºW, 60.155\n",
      "The mean population is: 2435442.5\n"
     ]
    }
   ],
   "source": [
    "### 4.1.2 Behold the Power of the DoL\n",
    "import numpy as np\n",
    "\n",
    "# Find the latitude of Manchester.\n",
    "lat = myData['Latitude'][ myData['Name'].index('Manchester') ]\n",
    "print(f\"Manchester's latitude is {lat}\")\n",
    "# Notice how 'f-strings' work!\n",
    "\n",
    "# Print the location of Lerwick\n",
    "city = \"Lerwick\"\n",
    "print(f\"The town of {city} can be found ar\" +\n",
    "      f\"{abs(myData['Latitude'][myData['Name'].index(city)])}ºW, {myData['Latitude'][myData['Name'].index(city)]}\")\n",
    "\n",
    "# Find the mean population of the cities\n",
    "# using a handy package called numpy\n",
    "mean = np.mean(myData['Population'])\n",
    "print(f\"The mean population is: {mean}\")"
   ]
  },
  {
   "cell_type": "code",
   "execution_count": 32,
   "id": "b7d45bea-5b29-40c4-98de-98bd31447777",
   "metadata": {},
   "outputs": [
    {
     "data": {
      "text/plain": [
       "[9787426, 2705000, 1141816, 901455, 70000, 6958]"
      ]
     },
     "execution_count": 32,
     "metadata": {},
     "output_type": "execute_result"
    }
   ],
   "source": [
    "### 4.1.3 The Population of Manchester\n",
    "myData['Population']"
   ]
  },
  {
   "cell_type": "code",
   "execution_count": 33,
   "id": "349c34fe-de5f-4803-9d7a-8c02afcf1c85",
   "metadata": {},
   "outputs": [
    {
     "data": {
      "text/plain": [
       "1"
      ]
     },
     "execution_count": 33,
     "metadata": {},
     "output_type": "execute_result"
    }
   ],
   "source": [
    "myData['Name'].index('Manchester')"
   ]
  },
  {
   "cell_type": "code",
   "execution_count": 34,
   "id": "9e05c834-746c-4bee-86c1-eba2aa8c2678",
   "metadata": {},
   "outputs": [
    {
     "data": {
      "text/plain": [
       "['London', 'Manchester', 'Birmingham', 'Edinburgh', 'Inverness', 'Lerwick']"
      ]
     },
     "execution_count": 34,
     "metadata": {},
     "output_type": "execute_result"
    }
   ],
   "source": [
    "### 4.1.4 The Easternmost City\n",
    "myData['Name']"
   ]
  },
  {
   "cell_type": "code",
   "execution_count": 35,
   "id": "1216d17a-e6a0-4fe0-a6ae-98a238560bd7",
   "metadata": {},
   "outputs": [
    {
     "name": "stdout",
     "output_type": "stream",
     "text": [
      "-0.128\n"
     ]
    }
   ],
   "source": [
    "max_lon = max(myData['Longitude'])\n",
    "print (max_lon)"
   ]
  },
  {
   "cell_type": "code",
   "execution_count": 36,
   "id": "ccec32ab-43c3-4b24-ae46-313f351e67ce",
   "metadata": {},
   "outputs": [
    {
     "data": {
      "text/plain": [
       "0"
      ]
     },
     "execution_count": 36,
     "metadata": {},
     "output_type": "execute_result"
    }
   ],
   "source": [
    "myData['Longitude'].index(max_lon)"
   ]
  },
  {
   "cell_type": "code",
   "execution_count": 37,
   "id": "f270ef94-06ad-4467-9cda-3d6ea7c97123",
   "metadata": {},
   "outputs": [
    {
     "data": {
      "text/plain": [
       "0"
      ]
     },
     "execution_count": 37,
     "metadata": {},
     "output_type": "execute_result"
    }
   ],
   "source": [
    "myData['Longitude'].index(max(myData['Longitude']))"
   ]
  },
  {
   "cell_type": "code",
   "execution_count": 38,
   "id": "304ee31d-2652-4830-ac39-17fb48f35a59",
   "metadata": {},
   "outputs": [
    {
     "data": {
      "text/plain": [
       "5"
      ]
     },
     "execution_count": 38,
     "metadata": {},
     "output_type": "execute_result"
    }
   ],
   "source": [
    "### 4.1.5 The Location of Lerwick\n",
    "myData['Name'].index(city)"
   ]
  },
  {
   "cell_type": "code",
   "execution_count": 39,
   "id": "cae34adc-a262-41a7-b59c-632d23caf49e",
   "metadata": {},
   "outputs": [
    {
     "data": {
      "text/plain": [
       "[-0.128, -2.245, -1.903, -3.189, -4.223, -1.145]"
      ]
     },
     "execution_count": 39,
     "metadata": {},
     "output_type": "execute_result"
    }
   ],
   "source": [
    "myData['Longitude']"
   ]
  },
  {
   "cell_type": "code",
   "execution_count": 40,
   "id": "04a0a68e-0907-4101-a9c9-ae30f3540938",
   "metadata": {},
   "outputs": [
    {
     "data": {
      "text/plain": [
       "\u001b[0;31mSignature:\u001b[0m \u001b[0mabs\u001b[0m\u001b[0;34m(\u001b[0m\u001b[0mx\u001b[0m\u001b[0;34m,\u001b[0m \u001b[0;34m/\u001b[0m\u001b[0;34m)\u001b[0m\u001b[0;34m\u001b[0m\u001b[0;34m\u001b[0m\u001b[0m\n",
       "\u001b[0;31mDocstring:\u001b[0m Return the absolute value of the argument.\n",
       "\u001b[0;31mType:\u001b[0m      builtin_function_or_method"
      ]
     },
     "metadata": {},
     "output_type": "display_data"
    }
   ],
   "source": [
    "?abs"
   ]
  },
  {
   "cell_type": "code",
   "execution_count": 41,
   "id": "23e274a4-27cd-4f12-880f-b23cddab380e",
   "metadata": {},
   "outputs": [
    {
     "name": "stdout",
     "output_type": "stream",
     "text": [
      "2435442.5\n"
     ]
    }
   ],
   "source": [
    "### 4.1.6 The Average City Size\n",
    "import numpy as np\n",
    "mean = np.mean(myData['Population'])\n",
    "print(mean)"
   ]
  },
  {
   "cell_type": "code",
   "execution_count": 42,
   "id": "7f27d97b-b277-420e-9660-f2a7994f9c93",
   "metadata": {},
   "outputs": [
    {
     "name": "stdout",
     "output_type": "stream",
     "text": [
      "The fourth most populous city is: Edinburgh\n"
     ]
    }
   ],
   "source": [
    "## Task4.2 Brain Teaser\n",
    "# Print out the name of the 4th most populous city-region\n",
    "city = myData['Name'][myData['Population'].index(sorted(myData['Population'], reverse=True)[3])]\n",
    "print(\"The fourth most populous city is: \" + str(city))"
   ]
  }
 ],
 "metadata": {
  "kernelspec": {
   "display_name": "Python 3 (ipykernel)",
   "language": "python",
   "name": "python3"
  },
  "language_info": {
   "codemirror_mode": {
    "name": "ipython",
    "version": 3
   },
   "file_extension": ".py",
   "mimetype": "text/x-python",
   "name": "python",
   "nbconvert_exporter": "python",
   "pygments_lexer": "ipython3",
   "version": "3.11.5"
  }
 },
 "nbformat": 4,
 "nbformat_minor": 5
}
